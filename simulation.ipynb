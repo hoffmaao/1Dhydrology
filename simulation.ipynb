{
 "cells": [
  {
   "cell_type": "code",
   "execution_count": 10,
   "metadata": {},
   "outputs": [],
   "source": [
    "%matplotlib inline\n",
    "import firedrake\n",
    "from firedrake import *\n",
    "import matplotlib.pyplot as plt\n",
    "import numpy as np\n",
    "from constants import *\n",
    "from hs_solver import *\n",
    "from phi_solver import *\n",
    "from model import *"
   ]
  },
  {
   "cell_type": "code",
   "execution_count": 11,
   "metadata": {},
   "outputs": [],
   "source": [
    "########### Domain Geometry ############\n",
    "proj_dir = '/Volumes/hoffmaao/data/rd06/projects/thwiates_modeling/1Dhydrology/'\n",
    "Lx = 50e3\n",
    "nx =840\n",
    "b0=0\n",
    "b1=100\n",
    "mesh = firedrake.IntervalMesh(nx,Lx)\n",
    "degree = 1\n",
    "\n",
    "V_cg = firedrake.FunctionSpace(mesh,\"CG\",degree)"
   ]
  },
  {
   "cell_type": "code",
   "execution_count": 12,
   "metadata": {},
   "outputs": [],
   "source": [
    "# bed/surface topography, ice velocity and melt rates\n",
    "\n",
    "H=firedrake.Function(V_cg)\n",
    "B=firedrake.Function(V_cg)\n",
    "\n",
    "x = firedrake.SpatialCoordinate(mesh)\n",
    "\n",
    "H=firedrake.interpolate(10*firedrake.sqrt(x[0]),V_cg)\n",
    "\n",
    "B=firedrake.interpolate(firedrake.Constant(b0),V_cg)\n",
    "\n",
    "\n",
    "ub = firedrake.Function(V_cg)\n",
    "m = firedrake.Function(V_cg)\n",
    "\n",
    "ub=firedrake.interpolate((firedrake.Constant(10.0) + firedrake.Constant(240.0) * (50000.0 - x[0]) / firedrake.Constant(50000.0)) / firedrake.Constant(31536000.0),V_cg)\n",
    "m = firedrake.interpolate((firedrake.Constant(1.0) + firedrake.Constant(1.5) * (50000.0 - x[0]) / firedrake.Constant(50000.0)) / firedrake.Constant(31536000.0),V_cg)\n",
    "\n",
    "\n",
    "H_out = firedrake.File(proj_dir + \"inputs/H.pvd\")\n",
    "B_out = firedrake.File(proj_dir + \"inputs/B.pvd\")\n",
    "\n",
    "ub_out = firedrake.File(proj_dir + \"inputs/ub.pvd\")\n",
    "m_out = firedrake.File(proj_dir + \"inputs/m.pvd\")\n",
    "\n",
    "H_out.write(H)\n",
    "B_out.write(B)\n",
    "ub_out.write(ub)\n",
    "m_out.write(m)"
   ]
  },
  {
   "cell_type": "code",
   "execution_count": 13,
   "metadata": {},
   "outputs": [],
   "source": [
    "########### Model Initializtion ############\n",
    "\n",
    "\n",
    "h_init = firedrake.Function(V_cg)\n",
    "#h_init = firedrake.interpolate(.01/(1.0+x[0]),V_cg)\n",
    "h_init = firedrake.interpolate(Constant(0.05),V_cg)\n",
    "\n",
    "S_init = firedrake.Function(V_cg)\n",
    "#S_init = firedrake.interpolate((.01*((50e3+1)-x[0])/50e3),V_cg)\n",
    "\n",
    "phi_init = firedrake.Function(V_cg)\n",
    "\n",
    "\n",
    "phi_init=pcs['g']*H*pcs['rho_ice'];"
   ]
  },
  {
   "cell_type": "code",
   "execution_count": 14,
   "metadata": {},
   "outputs": [],
   "source": [
    "# Load potential at 0 pressure\n",
    "phi_m = firedrake.Function(V_cg)\n",
    "phi_m = B*pcs['g']*pcs['rho_water']\n",
    "#ice overburden pressure\n",
    "p_i = firedrake.Function(V_cg)\n",
    "p_i = H*pcs['g']*pcs['rho_ice']+firedrake.Constant(.001)\n",
    "# Enforce 0 pressure bc at margin\n",
    "bc = firedrake.DirichletBC(V_cg, phi_m+p_i,1)\n",
    "phi_init=firedrake.Function(V_cg)\n",
    "phi_init=phi_m+p_i\n",
    "pcs['k'] = firedrake.Constant(5e-4)\n",
    "pcs['k_c'] = firedrake.Constant(0.05)\n",
    "\n"
   ]
  },
  {
   "cell_type": "code",
   "execution_count": 15,
   "metadata": {},
   "outputs": [],
   "source": [
    "model_inputs = {}\n",
    "model_inputs['phi_m'] = phi_m\n",
    "model_inputs['p_i'] = p_i\n",
    "model_inputs['phi_0'] = phi_m + p_i\n",
    "model_inputs['mesh'] = mesh\n",
    "model_inputs['H'] = H\n",
    "model_inputs['B'] = B\n",
    "model_inputs['u_b'] = ub\n",
    "model_inputs['m'] = m\n",
    "model_inputs['h_init'] = h_init\n",
    "model_inputs['S_init'] = S_init\n",
    "model_inputs['phi_init'] = phi_init\n",
    "model_inputs['d_bcs'] = [bc]\n",
    "model_inputs['out_dir'] = proj_dir + \"outputs/\"\n",
    "model_inputs['constants'] = pcs"
   ]
  },
  {
   "cell_type": "code",
   "execution_count": 16,
   "metadata": {},
   "outputs": [
    {
     "name": "stdout",
     "output_type": "stream",
     "text": [
      "841\n"
     ]
    }
   ],
   "source": [
    "# Create the Glads model\n",
    "model = Glads1DModel(model_inputs)\n",
    "# End time\n",
    "T = 25.0*pcs['spd']\n",
    "# Time step\n",
    "dt = 60.0\n",
    "# Irataion count\n",
    "i = 0"
   ]
  },
  {
   "cell_type": "code",
   "execution_count": 8,
   "metadata": {},
   "outputs": [
    {
     "data": {
      "text/plain": [
       "<matplotlib.axes._subplots.AxesSubplot at 0x12938bac8>"
      ]
     },
     "execution_count": 8,
     "metadata": {},
     "output_type": "execute_result"
    },
    {
     "data": {
      "image/png": "[encoded data removed]",
      "text/plain": [
       "<Figure size 432x288 with 1 Axes>"
      ]
     },
     "metadata": {
      "needs_background": "light"
     },
     "output_type": "display_data"
    },
    {
     "data": {
      "image/png": "[encoded data removed]",
      "text/plain": [
       "<Figure size 432x288 with 1 Axes>"
      ]
     },
     "metadata": {
      "needs_background": "light"
     },
     "output_type": "display_data"
    },
    {
     "data": {
      "image/png": "[encoded data removed]",
      "text/plain": [
       "<Figure size 432x288 with 1 Axes>"
      ]
     },
     "metadata": {
      "needs_background": "light"
     },
     "output_type": "display_data"
    },
    {
     "data": {
      "image/png": "[encoded data removed]",
      "text/plain": [
       "<Figure size 432x288 with 1 Axes>"
      ]
     },
     "metadata": {
      "needs_background": "light"
     },
     "output_type": "display_data"
    }
   ],
   "source": [
    "plot(model.h)\n",
    "plot(model.S)\n",
    "plot(model.H)\n",
    "plot(model.B)\n"
   ]
  },
  {
   "cell_type": "code",
   "execution_count": 18,
   "metadata": {},
   "outputs": [
    {
     "name": "stdout",
     "output_type": "stream",
     "text": [
      "60.0\n",
      "120.0\n",
      "180.0\n",
      "240.0\n",
      "300.0\n",
      "360.0\n",
      "420.0\n",
      "480.0\n",
      "540.0\n",
      "600.0\n",
      "660.0\n",
      "720.0\n",
      "780.0\n",
      "840.0\n",
      "900.0\n",
      "960.0\n",
      "1020.0\n",
      "1080.0\n",
      "1140.0\n",
      "1200.0\n",
      "1260.0\n",
      "1320.0\n",
      "1380.0\n",
      "1440.0\n",
      "1500.0\n",
      "1560.0\n",
      "1620.0\n",
      "1680.0\n",
      "1740.0\n",
      "1800.0\n",
      "1860.0\n",
      "1920.0\n",
      "1980.0\n",
      "2040.0\n",
      "2100.0\n",
      "2160.0\n",
      "2220.0\n",
      "2280.0\n",
      "2340.0\n",
      "2400.0\n",
      "2460.0\n",
      "2520.0\n"
     ]
    },
    {
     "ename": "ConvergenceError",
     "evalue": "Nonlinear solve failed to converge after 0 nonlinear iterations.\nReason:\n   DIVERGED_LOCAL_MIN",
     "output_type": "error",
     "traceback": [
      "\u001b[0;31m---------------------------------------------------------------------------\u001b[0m",
      "\u001b[0;31mConvergenceError\u001b[0m                          Traceback (most recent call last)",
      "\u001b[0;32m/Volumes/hoffmaao/data/rd09/projects/thwaites_modeling/1Dhydrology/phi_solver.py\u001b[0m in \u001b[0;36mstep\u001b[0;34m(self, dt)\u001b[0m\n\u001b[1;32m    135\u001b[0m                          \u001b[0;34m'snes_max_it'\u001b[0m\u001b[0;34m:\u001b[0m \u001b[0;36m50\u001b[0m\u001b[0;34m,\u001b[0m\u001b[0;34m\u001b[0m\u001b[0;34m\u001b[0m\u001b[0m\n\u001b[0;32m--> 136\u001b[0;31m                          'mat_type': 'aij'})#, solver_parameters = self.model.newton_params)\n\u001b[0m\u001b[1;32m    137\u001b[0m \u001b[0;34m\u001b[0m\u001b[0m\n",
      "\u001b[0;32m/Applications/firedrake/firedrake/src/firedrake/firedrake/solving.py\u001b[0m in \u001b[0;36msolve\u001b[0;34m(*args, **kwargs)\u001b[0m\n\u001b[1;32m    123\u001b[0m     \u001b[0;32mif\u001b[0m \u001b[0misinstance\u001b[0m\u001b[0;34m(\u001b[0m\u001b[0margs\u001b[0m\u001b[0;34m[\u001b[0m\u001b[0;36m0\u001b[0m\u001b[0;34m]\u001b[0m\u001b[0;34m,\u001b[0m \u001b[0mufl\u001b[0m\u001b[0;34m.\u001b[0m\u001b[0mclasses\u001b[0m\u001b[0;34m.\u001b[0m\u001b[0mEquation\u001b[0m\u001b[0;34m)\u001b[0m\u001b[0;34m:\u001b[0m\u001b[0;34m\u001b[0m\u001b[0;34m\u001b[0m\u001b[0m\n\u001b[0;32m--> 124\u001b[0;31m         \u001b[0m_solve_varproblem\u001b[0m\u001b[0;34m(\u001b[0m\u001b[0;34m*\u001b[0m\u001b[0margs\u001b[0m\u001b[0;34m,\u001b[0m \u001b[0;34m**\u001b[0m\u001b[0mkwargs\u001b[0m\u001b[0;34m)\u001b[0m\u001b[0;34m\u001b[0m\u001b[0;34m\u001b[0m\u001b[0m\n\u001b[0m\u001b[1;32m    125\u001b[0m     \u001b[0;32melse\u001b[0m\u001b[0;34m:\u001b[0m\u001b[0;34m\u001b[0m\u001b[0;34m\u001b[0m\u001b[0m\n",
      "\u001b[0;32m/Applications/firedrake/firedrake/src/firedrake/firedrake/solving.py\u001b[0m in \u001b[0;36m_solve_varproblem\u001b[0;34m(*args, **kwargs)\u001b[0m\n\u001b[1;32m    171\u001b[0m                                                appctx=appctx)\n\u001b[0;32m--> 172\u001b[0;31m         \u001b[0msolver\u001b[0m\u001b[0;34m.\u001b[0m\u001b[0msolve\u001b[0m\u001b[0;34m(\u001b[0m\u001b[0;34m)\u001b[0m\u001b[0;34m\u001b[0m\u001b[0;34m\u001b[0m\u001b[0m\n\u001b[0m\u001b[1;32m    173\u001b[0m \u001b[0;34m\u001b[0m\u001b[0m\n",
      "\u001b[0;32m/Applications/firedrake/firedrake/src/firedrake/firedrake/variational_solver.py\u001b[0m in \u001b[0;36msolve\u001b[0;34m(self, bounds)\u001b[0m\n\u001b[1;32m    246\u001b[0m         \u001b[0mself\u001b[0m\u001b[0;34m.\u001b[0m\u001b[0m_setup\u001b[0m \u001b[0;34m=\u001b[0m \u001b[0;32mTrue\u001b[0m\u001b[0;34m\u001b[0m\u001b[0;34m\u001b[0m\u001b[0m\n\u001b[0;32m--> 247\u001b[0;31m         \u001b[0msolving_utils\u001b[0m\u001b[0;34m.\u001b[0m\u001b[0mcheck_snes_convergence\u001b[0m\u001b[0;34m(\u001b[0m\u001b[0mself\u001b[0m\u001b[0;34m.\u001b[0m\u001b[0msnes\u001b[0m\u001b[0;34m)\u001b[0m\u001b[0;34m\u001b[0m\u001b[0;34m\u001b[0m\u001b[0m\n\u001b[0m\u001b[1;32m    248\u001b[0m \u001b[0;34m\u001b[0m\u001b[0m\n",
      "\u001b[0;32m/Applications/firedrake/firedrake/src/firedrake/firedrake/solving_utils.py\u001b[0m in \u001b[0;36mcheck_snes_convergence\u001b[0;34m(snes)\u001b[0m\n\u001b[1;32m     42\u001b[0m \u001b[0mReason\u001b[0m\u001b[0;34m:\u001b[0m\u001b[0;34m\u001b[0m\u001b[0;34m\u001b[0m\u001b[0m\n\u001b[0;32m---> 43\u001b[0;31m    %s\"\"\" % (snes.getIterationNumber(), msg))\n\u001b[0m\u001b[1;32m     44\u001b[0m \u001b[0;34m\u001b[0m\u001b[0m\n",
      "\u001b[0;31mConvergenceError\u001b[0m: Nonlinear solve failed to converge after 0 nonlinear iterations.\nReason:\n   DIVERGED_LOCAL_MIN",
      "\nDuring handling of the above exception, another exception occurred:\n",
      "\u001b[0;31mConvergenceError\u001b[0m                          Traceback (most recent call last)",
      "\u001b[0;32m<ipython-input-18-a5c18a1acf10>\u001b[0m in \u001b[0;36m<module>\u001b[0;34m\u001b[0m\n\u001b[1;32m      2\u001b[0m \u001b[0;34m\u001b[0m\u001b[0m\n\u001b[1;32m      3\u001b[0m \u001b[0;32mwhile\u001b[0m \u001b[0mmodel\u001b[0m\u001b[0;34m.\u001b[0m\u001b[0mt\u001b[0m \u001b[0;34m<\u001b[0m \u001b[0mT\u001b[0m\u001b[0;34m:\u001b[0m\u001b[0;34m\u001b[0m\u001b[0;34m\u001b[0m\u001b[0m\n\u001b[0;32m----> 4\u001b[0;31m     \u001b[0mmodel\u001b[0m\u001b[0;34m.\u001b[0m\u001b[0mstep\u001b[0m\u001b[0;34m(\u001b[0m\u001b[0mdt\u001b[0m\u001b[0;34m)\u001b[0m\u001b[0;34m\u001b[0m\u001b[0;34m\u001b[0m\u001b[0m\n\u001b[0m\u001b[1;32m      5\u001b[0m     \u001b[0mprint\u001b[0m\u001b[0;34m(\u001b[0m\u001b[0mmodel\u001b[0m\u001b[0;34m.\u001b[0m\u001b[0mt\u001b[0m\u001b[0;34m)\u001b[0m\u001b[0;34m\u001b[0m\u001b[0;34m\u001b[0m\u001b[0m\n",
      "\u001b[0;32m/Volumes/hoffmaao/data/rd09/projects/thwaites_modeling/1Dhydrology/model.py\u001b[0m in \u001b[0;36mstep\u001b[0;34m(self, dt)\u001b[0m\n\u001b[1;32m     97\u001b[0m   \u001b[0;32mdef\u001b[0m \u001b[0mstep\u001b[0m\u001b[0;34m(\u001b[0m\u001b[0mself\u001b[0m\u001b[0;34m,\u001b[0m \u001b[0mdt\u001b[0m\u001b[0;34m)\u001b[0m\u001b[0;34m:\u001b[0m\u001b[0;34m\u001b[0m\u001b[0;34m\u001b[0m\u001b[0m\n\u001b[1;32m     98\u001b[0m     \u001b[0;31m# Step the potential forward by dt with h fixed\u001b[0m\u001b[0;34m\u001b[0m\u001b[0;34m\u001b[0m\u001b[0;34m\u001b[0m\u001b[0m\n\u001b[0;32m---> 99\u001b[0;31m     \u001b[0mself\u001b[0m\u001b[0;34m.\u001b[0m\u001b[0mphi_solver\u001b[0m\u001b[0;34m.\u001b[0m\u001b[0mstep\u001b[0m\u001b[0;34m(\u001b[0m\u001b[0mdt\u001b[0m\u001b[0;34m)\u001b[0m\u001b[0;34m\u001b[0m\u001b[0;34m\u001b[0m\u001b[0m\n\u001b[0m\u001b[1;32m    100\u001b[0m     \u001b[0;31m# Step h forward by dt with phi fixed\u001b[0m\u001b[0;34m\u001b[0m\u001b[0;34m\u001b[0m\u001b[0;34m\u001b[0m\u001b[0m\n\u001b[1;32m    101\u001b[0m     \u001b[0mself\u001b[0m\u001b[0;34m.\u001b[0m\u001b[0mhs_solver\u001b[0m\u001b[0;34m.\u001b[0m\u001b[0mstep\u001b[0m\u001b[0;34m(\u001b[0m\u001b[0mdt\u001b[0m\u001b[0;34m)\u001b[0m\u001b[0;34m\u001b[0m\u001b[0;34m\u001b[0m\u001b[0m\n",
      "\u001b[0;32m/Volumes/hoffmaao/data/rd09/projects/thwaites_modeling/1Dhydrology/phi_solver.py\u001b[0m in \u001b[0;36mstep\u001b[0;34m(self, dt)\u001b[0m\n\u001b[1;32m    149\u001b[0m                          \u001b[0;34m'pc_type'\u001b[0m\u001b[0;34m:\u001b[0m \u001b[0;34m'lu'\u001b[0m\u001b[0;34m,\u001b[0m\u001b[0;34m\u001b[0m\u001b[0;34m\u001b[0m\u001b[0m\n\u001b[1;32m    150\u001b[0m                          \u001b[0;34m'snes_max_it'\u001b[0m\u001b[0;34m:\u001b[0m \u001b[0;36m50\u001b[0m\u001b[0;34m,\u001b[0m\u001b[0;34m\u001b[0m\u001b[0;34m\u001b[0m\u001b[0m\n\u001b[0;32m--> 151\u001b[0;31m                          'mat_type': 'aij'})#, solver_parameters = self.model.newton_params)\n\u001b[0m\u001b[1;32m    152\u001b[0m \u001b[0;34m\u001b[0m\u001b[0m\n\u001b[1;32m    153\u001b[0m       \u001b[0;31m# Derive values from potential\u001b[0m\u001b[0;34m\u001b[0m\u001b[0;34m\u001b[0m\u001b[0;34m\u001b[0m\u001b[0m\n",
      "\u001b[0;32m/Applications/firedrake/firedrake/src/firedrake/firedrake/solving.py\u001b[0m in \u001b[0;36msolve\u001b[0;34m(*args, **kwargs)\u001b[0m\n\u001b[1;32m    122\u001b[0m     \u001b[0;31m# Call variational problem solver if we get an equation\u001b[0m\u001b[0;34m\u001b[0m\u001b[0;34m\u001b[0m\u001b[0;34m\u001b[0m\u001b[0m\n\u001b[1;32m    123\u001b[0m     \u001b[0;32mif\u001b[0m \u001b[0misinstance\u001b[0m\u001b[0;34m(\u001b[0m\u001b[0margs\u001b[0m\u001b[0;34m[\u001b[0m\u001b[0;36m0\u001b[0m\u001b[0;34m]\u001b[0m\u001b[0;34m,\u001b[0m \u001b[0mufl\u001b[0m\u001b[0;34m.\u001b[0m\u001b[0mclasses\u001b[0m\u001b[0;34m.\u001b[0m\u001b[0mEquation\u001b[0m\u001b[0;34m)\u001b[0m\u001b[0;34m:\u001b[0m\u001b[0;34m\u001b[0m\u001b[0;34m\u001b[0m\u001b[0m\n\u001b[0;32m--> 124\u001b[0;31m         \u001b[0m_solve_varproblem\u001b[0m\u001b[0;34m(\u001b[0m\u001b[0;34m*\u001b[0m\u001b[0margs\u001b[0m\u001b[0;34m,\u001b[0m \u001b[0;34m**\u001b[0m\u001b[0mkwargs\u001b[0m\u001b[0;34m)\u001b[0m\u001b[0;34m\u001b[0m\u001b[0;34m\u001b[0m\u001b[0m\n\u001b[0m\u001b[1;32m    125\u001b[0m     \u001b[0;32melse\u001b[0m\u001b[0;34m:\u001b[0m\u001b[0;34m\u001b[0m\u001b[0;34m\u001b[0m\u001b[0m\n\u001b[1;32m    126\u001b[0m         \u001b[0;31m# Solve pre-assembled system\u001b[0m\u001b[0;34m\u001b[0m\u001b[0;34m\u001b[0m\u001b[0;34m\u001b[0m\u001b[0m\n",
      "\u001b[0;32m/Applications/firedrake/firedrake/src/firedrake/firedrake/solving.py\u001b[0m in \u001b[0;36m_solve_varproblem\u001b[0;34m(*args, **kwargs)\u001b[0m\n\u001b[1;32m    170\u001b[0m                                                \u001b[0moptions_prefix\u001b[0m\u001b[0;34m=\u001b[0m\u001b[0moptions_prefix\u001b[0m\u001b[0;34m,\u001b[0m\u001b[0;34m\u001b[0m\u001b[0;34m\u001b[0m\u001b[0m\n\u001b[1;32m    171\u001b[0m                                                appctx=appctx)\n\u001b[0;32m--> 172\u001b[0;31m         \u001b[0msolver\u001b[0m\u001b[0;34m.\u001b[0m\u001b[0msolve\u001b[0m\u001b[0;34m(\u001b[0m\u001b[0;34m)\u001b[0m\u001b[0;34m\u001b[0m\u001b[0;34m\u001b[0m\u001b[0m\n\u001b[0m\u001b[1;32m    173\u001b[0m \u001b[0;34m\u001b[0m\u001b[0m\n\u001b[1;32m    174\u001b[0m \u001b[0;34m\u001b[0m\u001b[0m\n",
      "\u001b[0;32m/Applications/firedrake/firedrake/src/firedrake/firedrake/variational_solver.py\u001b[0m in \u001b[0;36msolve\u001b[0;34m(self, bounds)\u001b[0m\n\u001b[1;32m    245\u001b[0m             \u001b[0mwork\u001b[0m\u001b[0;34m.\u001b[0m\u001b[0mcopy\u001b[0m\u001b[0;34m(\u001b[0m\u001b[0mu\u001b[0m\u001b[0;34m)\u001b[0m\u001b[0;34m\u001b[0m\u001b[0;34m\u001b[0m\u001b[0m\n\u001b[1;32m    246\u001b[0m         \u001b[0mself\u001b[0m\u001b[0;34m.\u001b[0m\u001b[0m_setup\u001b[0m \u001b[0;34m=\u001b[0m \u001b[0;32mTrue\u001b[0m\u001b[0;34m\u001b[0m\u001b[0;34m\u001b[0m\u001b[0m\n\u001b[0;32m--> 247\u001b[0;31m         \u001b[0msolving_utils\u001b[0m\u001b[0;34m.\u001b[0m\u001b[0mcheck_snes_convergence\u001b[0m\u001b[0;34m(\u001b[0m\u001b[0mself\u001b[0m\u001b[0;34m.\u001b[0m\u001b[0msnes\u001b[0m\u001b[0;34m)\u001b[0m\u001b[0;34m\u001b[0m\u001b[0;34m\u001b[0m\u001b[0m\n\u001b[0m\u001b[1;32m    248\u001b[0m \u001b[0;34m\u001b[0m\u001b[0m\n\u001b[1;32m    249\u001b[0m \u001b[0;34m\u001b[0m\u001b[0m\n",
      "\u001b[0;32m/Applications/firedrake/firedrake/src/firedrake/firedrake/solving_utils.py\u001b[0m in \u001b[0;36mcheck_snes_convergence\u001b[0;34m(snes)\u001b[0m\n\u001b[1;32m     41\u001b[0m         raise ConvergenceError(r\"\"\"Nonlinear solve failed to converge after %d nonlinear iterations.\n\u001b[1;32m     42\u001b[0m \u001b[0mReason\u001b[0m\u001b[0;34m:\u001b[0m\u001b[0;34m\u001b[0m\u001b[0;34m\u001b[0m\u001b[0m\n\u001b[0;32m---> 43\u001b[0;31m    %s\"\"\" % (snes.getIterationNumber(), msg))\n\u001b[0m\u001b[1;32m     44\u001b[0m \u001b[0;34m\u001b[0m\u001b[0m\n\u001b[1;32m     45\u001b[0m \u001b[0;34m\u001b[0m\u001b[0m\n",
      "\u001b[0;31mConvergenceError\u001b[0m: Nonlinear solve failed to converge after 0 nonlinear iterations.\nReason:\n   DIVERGED_LOCAL_MIN"
     ]
    }
   ],
   "source": [
    "############# Run simulation ################\n",
    "\n",
    "while model.t < T:\n",
    "    model.step(dt)\n",
    "    print(model.t)"
   ]
  },
  {
   "cell_type": "code",
   "execution_count": 19,
   "metadata": {},
   "outputs": [
    {
     "data": {
      "text/plain": [
       "<matplotlib.axes._subplots.AxesSubplot at 0x11cb6ed30>"
      ]
     },
     "execution_count": 19,
     "metadata": {},
     "output_type": "execute_result"
    },
    {
     "data": {
      "image/png": "[encoded data removed]",
      "text/plain": [
       "<Figure size 432x288 with 1 Axes>"
      ]
     },
     "metadata": {
      "needs_background": "light"
     },
     "output_type": "display_data"
    },
    {
     "data": {
      "image/png": "[encoded data removed]",
      "text/plain": [
       "<Figure size 432x288 with 1 Axes>"
      ]
     },
     "metadata": {
      "needs_background": "light"
     },
     "output_type": "display_data"
    },
    {
     "data": {
      "image/png": "[encoded data removed]",
      "text/plain": [
       "<Figure size 432x288 with 1 Axes>"
      ]
     },
     "metadata": {
      "needs_background": "light"
     },
     "output_type": "display_data"
    }
   ],
   "source": [
    "plot(model.S)\n",
    "plot(model.h)\n",
    "plot(model.N)"
   ]
  },
  {
   "cell_type": "code",
   "execution_count": null,
   "metadata": {},
   "outputs": [],
   "source": [
    "phi_solver_1=PhiSolver(model)\n",
    "# Get melt rate\n",
    "m = model.m\n",
    "# Sheet height\n",
    "h = model.h\n",
    "# Channel areas\n",
    "S = model.S\n",
    "# This function stores the value of S**alpha.\n",
    "S_alpha = model.S_alpha\n",
    "# Basal sliding speed\n",
    "u_b = model.u_b\n",
    "# Potential\n",
    "phi = model.phi\n",
    "# Potential at previous time step\n",
    "phi_prev = model.phi_prev\n",
    "# Potential at overburden pressure\n",
    "phi_0 = model.phi_0\n",
    "# Density of ice\n",
    "rho_i = model.pcs['rho_ice']\n",
    "# Density of water\n",
    "rho_w = model.pcs['rho_water']\n",
    "# Rate factor\n",
    "A = model.pcs['A']\n",
    "# Sheet conductivity\n",
    "k = model.pcs['k']\n",
    "# Channel conductivity\n",
    "k_c = model.pcs['k_c']\n",
    "# Bump height\n",
    "h_r = model.pcs['h_r']\n",
    "# Distance between bumps\n",
    "l_r = model.pcs['l_r']\n",
    "# Sheet width under channel\n",
    "l_c = model.pcs['l_c']\n",
    "# Latent heat\n",
    "L = model.pcs['L']\n",
    "# Width of distributed drainage\n",
    "#W = model.pcs['W']\n",
    "# Void storage ratio\n",
    "e_v = model.pcs['e_v']\n",
    "# Gravitational acceleration\n",
    "g = model.pcs['g']\n",
    "# Exponents\n",
    "alpha = model.pcs['alpha']\n",
    "delta = model.pcs['delta']\n",
    "# pcs in front of storage term\n",
    "c1 = e_v / (rho_w * g)\n",
    "# Regularization parameter\n",
    "phi_reg = 1e-15\n",
    "  \n",
    "### set up sheet model\n",
    "# Expression for effective pressure in terms of potential\n",
    "N = phi_0 - phi\n",
    "# Derivative of phi\n",
    "dphi_tmp = phi.dx(0)\n",
    "#dphi_ds = firedrake.interpolate(dphi_tmp,V_cg)\n",
    "# Flux vector\n",
    "#q = -firedrake.Constant(k) * h**alpha * abs(dphi_ds + phi_reg)**(delta) * dphi_ds\n",
    "q = -firedrake.Constant(k) * h**alpha * abs(phi.dx(0) + phi_reg)**(delta) * phi.dx(0)\n",
    "# Opening term \n",
    "w = firedrake.conditional(firedrake.gt(h_r - h, 0.0), u_b * (h_r - h) / l_r, 0.0)\n",
    "# Closing term\n",
    "v = firedrake.Constant(A) * h * N**3\n",
    "\n",
    "\n",
    "\n",
    "### Set up the channel model \n",
    "\n",
    "# Discharge through channels\n",
    "Q = -firedrake.Constant(k_c) * S_alpha * abs(phi.dx(0) + firedrake.Constant(phi_reg))**delta * phi.dx(0)\n",
    "# Approximate discharge of sheet in direction of channel\n",
    "q_c = -firedrake.Constant(k) * h**alpha * abs(phi.dx(0) + firedrake.Constant(phi_reg))**delta * phi.dx(0)\n",
    "# Energy dissipation \n",
    "Xi = abs(Q * phi.dx(0)) + abs(firedrake.Constant(l_c) * q_c * phi.dx(0))\n",
    "# Channel creep closure rate\n",
    "v_c = firedrake.Constant(A) * S * N**3\n",
    "# Another channel source term\n",
    "w_c = (Xi / firedrake.Constant(L)) * firedrake.Constant((1. / rho_i) - (1. / rho_w))\n",
    "\n",
    "### Set up the PDE for the potential ###\n",
    "\n",
    "# Measure for integrals over mesh boundaries\n",
    "#ds = firedrake.Measure(\"ds\")[model.boundaries]\n",
    "#dx = firedrake.Measure('dx',domain=model.mesh)\n",
    "theta = firedrake.TestFunction(model.V_cg)\n",
    "\n",
    "# Constant in front of storage term\n",
    "C1 = firedrake.Constant(c1)\n",
    "# Storage term\n",
    "F_s = C1 * (phi - phi_prev) * theta * firedrake.dx\n",
    "# Sheet contribution to PDE\n",
    "F_s += dt * (-theta.dx(0) * q + (w - v - m) * theta) * firedrake.dx \n",
    "\n",
    "# Add any non-zero Neumann boundary conditions\n",
    "for (m, c) in model.n_bcs: \n",
    "    F_s += dt * firedrake.Constant(c) * theta * m\n",
    "\n",
    "# Channel contribution to PDE\n",
    "F_c = dt * ((-theta.dx(0)) * Q + (w_c - v_c) * theta('+') )* firedrake.dx\n",
    "# Variational form\n",
    "F = F_s + F_c\n",
    "\n",
    "# Get the Jacobian\n",
    "dphi = firedrake.TrialFunction(model.V_cg)\n",
    "J = firedrake.derivative(F_s, phi, dphi) \n",
    "\n",
    "\n",
    "### Assign local variables\n",
    "\n",
    "phi_solver_1.F = F_s\n",
    "phi_solver_1.J = J\n",
    "phi_solver_1.model = model\n",
    "phi_solver_1.dt = 460\n",
    "phi_solver_1.model.d_bcs"
   ]
  },
  {
   "cell_type": "code",
   "execution_count": null,
   "metadata": {},
   "outputs": [],
   "source": [
    "solve(phi_solver_1.F == 0, phi_solver_1.model.phi, phi_solver_1.model.d_bcs, J = phi_solver_1.J,solver_parameters={\n",
    "                         'snes_type': 'newtonls',\n",
    "                         'snes_rtol': 5e-11,\n",
    "                         'snes_atol': 5e-10,\n",
    "                         'pc_type': 'lu',\n",
    "                         'snes_max_it': 50,\n",
    "                         'mat_type': 'aij'})"
   ]
  },
  {
   "cell_type": "code",
   "execution_count": null,
   "metadata": {},
   "outputs": [],
   "source": [
    "plot(model.phi)\n",
    "plot(model.S)\n",
    "plot(model.h)\n",
    "plot(model.N)"
   ]
  },
  {
   "cell_type": "code",
   "execution_count": null,
   "metadata": {},
   "outputs": [],
   "source": []
  }
 ],
 "metadata": {
  "kernelspec": {
   "display_name": "Python 3",
   "language": "python",
   "name": "python3"
  },
  "language_info": {
   "codemirror_mode": {
    "name": "ipython",
    "version": 3
   },
   "file_extension": ".py",
   "mimetype": "text/x-python",
   "name": "python",
   "nbconvert_exporter": "python",
   "pygments_lexer": "ipython3",
   "version": "3.7.3"
  }
 },
 "nbformat": 4,
 "nbformat_minor": 2
}
