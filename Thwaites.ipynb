{
 "cells": [
  {
   "cell_type": "code",
   "execution_count": 1,
   "metadata": {},
   "outputs": [],
   "source": [
    "%matplotlib notebook\n",
    "import firedrake\n",
    "from firedrake import *\n",
    "import matplotlib.pyplot as plt\n",
    "import numpy as np\n",
    "from constants import *\n",
    "from hs_solver import *\n",
    "from phi_solver import *\n",
    "from model import *"
   ]
  },
  {
   "cell_type": "markdown",
   "metadata": {},
   "source": [
    "# Thwiaites experiment\n",
    "The subglacial enviornment of Thwaites Glacier is of much interest to scientists and policy makes as the bed conditions of this large glacier modulate the speed of West Antarctic retreat. Recently, several large sub-glacial lakes have been observed to fill and drain on internanual timescales. These drainage events have been observed as hydraulic lifting and lower and speed changes of the ice sheet."
   ]
  },
  {
   "cell_type": "markdown",
   "metadata": {},
   "source": [
    "# Input data for model"
   ]
  },
  {
   "cell_type": "markdown",
   "metadata": {},
   "source": [
    "## Bed and surface elevation data"
   ]
  },
  {
   "cell_type": "markdown",
   "metadata": {},
   "source": [
    "## Basal melt rates and slip velocities"
   ]
  },
  {
   "cell_type": "code",
   "execution_count": null,
   "metadata": {},
   "outputs": [],
   "source": []
  }
 ],
 "metadata": {
  "kernelspec": {
   "display_name": "Python 3",
   "language": "python",
   "name": "python3"
  },
  "language_info": {
   "codemirror_mode": {
    "name": "ipython",
    "version": 3
   },
   "file_extension": ".py",
   "mimetype": "text/x-python",
   "name": "python",
   "nbconvert_exporter": "python",
   "pygments_lexer": "ipython3",
   "version": "3.7.3"
  }
 },
 "nbformat": 4,
 "nbformat_minor": 2
}
