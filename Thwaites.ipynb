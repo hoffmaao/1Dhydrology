{
 "cells": [
  {
   "cell_type": "code",
   "execution_count": 1,
   "metadata": {},
   "outputs": [],
   "source": [
    "%matplotlib notebook\n",
    "import firedrake\n",
    "from firedrake import *\n",
    "import matplotlib.pyplot as plt\n",
    "import numpy as np\n",
    "from constants import *\n",
    "from hs_solver import *\n",
    "from phi_solver import *\n",
    "from model import *\n",
    "from scipy.io import loadmat"
   ]
  },
  {
   "cell_type": "markdown",
   "metadata": {},
   "source": [
    "# Thwiaites experiment\n",
    "The subglacial enviornment of Thwaites Glacier is of much interest to scientists and policy makes as the bed conditions beneath Thwaites control the rate of West Antarctic collapse. Recently, several large sub-glacial lakes have been observed to fill and drain on internanual timescales. "
   ]
  },
  {
   "cell_type": "markdown",
   "metadata": {},
   "source": [
    "# Input data for model"
   ]
  },
  {
   "cell_type": "code",
   "execution_count": 2,
   "metadata": {},
   "outputs": [],
   "source": [
    "x=loadmat('/Volumes/GoogleDrive/My Drive/papers/Thwaites_lakes_p1/thw124.mat')\n",
    "M=x['M']\n",
    "dist=M[:,0] # distance along flow line (m)\n",
    "bed=M[:,1] # bed elevation (m)\n",
    "surface=M[:,2] # surface elevation (m)\n",
    "melt_ian=M[:,3] # basal melt rate. (mm/a)\n",
    "ub_ian=M[:,4] # basal slip speed (m/yr)"
   ]
  },
  {
   "cell_type": "markdown",
   "metadata": {},
   "source": [
    "# Define model domain"
   ]
  },
  {
   "cell_type": "code",
   "execution_count": 3,
   "metadata": {},
   "outputs": [],
   "source": [
    "Lx = dist[-1]\n",
    "nx =len(dist)-1\n",
    "flux_condition = 0.0\n",
    "mesh = firedrake.IntervalMesh(nx,Lx)\n",
    "degree = 1\n",
    "V_cg = firedrake.FunctionSpace(mesh,\"CG\",degree)"
   ]
  },
  {
   "cell_type": "code",
   "execution_count": 4,
   "metadata": {},
   "outputs": [],
   "source": [
    "H=firedrake.Function(V_cg)\n",
    "Bed=firedrake.Function(V_cg)\n",
    "Surface=firedrake.Function(V_cg)\n",
    "width = firedrake.Function(V_cg)\n",
    "m = firedrake.Function(V_cg)\n",
    "ub = firedrake.Function(V_cg)\n",
    "width = firedrake.interpolate(firedrake.Constant(20000.0),V_cg)"
   ]
  },
  {
   "cell_type": "code",
   "execution_count": 5,
   "metadata": {},
   "outputs": [],
   "source": [
    "Surface.dat.data[:] = surface\n",
    "Bed.dat.data[:] = bed\n",
    "ub.dat.data[:]=ub_ian/pcs[\"spy\"]\n",
    "m.dat.data[:]=melt_ian/pcs[\"spy\"]/1000.0\n",
    "H = firedrake.interpolate(Surface-Bed,V_cg)"
   ]
  },
  {
   "cell_type": "code",
   "execution_count": 6,
   "metadata": {},
   "outputs": [],
   "source": [
    "########### Model Initializtion ############\n",
    "\n",
    "h_init = firedrake.Function(V_cg)\n",
    "h_init = firedrake.interpolate(Constant(1.0e-10),V_cg)\n",
    "S_init = firedrake.Function(V_cg)\n",
    "\n",
    "# Load potential at 0 pressure\n",
    "phi_m = firedrake.Function(V_cg)\n",
    "phi_m = firedrake.assemble(Bed*pcs['g']*pcs['rho_water'])\n",
    "# Ice overburden pressure\n",
    "p_i = firedrake.Function(V_cg)\n",
    "p_i = firedrake.assemble(H*pcs['g']*pcs['rho_ice'])\n",
    "# Enforce 0 pressure bc at margin\n",
    "bc = firedrake.DirichletBC(V_cg,p_i+phi_m,2)\n",
    "\n",
    "# Initialize hydropotential\n",
    "phi_init=firedrake.Function(V_cg)\n",
    "phi_init=p_i+phi_m\n",
    "\n",
    "# change constants\n",
    "pcs[\"e_v\"]=1e-9\n",
    "pcs[\"h_r\"]=0.05"
   ]
  },
  {
   "cell_type": "code",
   "execution_count": 7,
   "metadata": {},
   "outputs": [],
   "source": [
    "model_inputs = {}\n",
    "model_inputs['phi_m'] = phi_m\n",
    "model_inputs['p_i'] = p_i\n",
    "model_inputs['phi_0'] = p_i+phi_m\n",
    "model_inputs['mesh'] = mesh\n",
    "model_inputs['H'] = H\n",
    "model_inputs['B'] = Bed\n",
    "model_inputs['u_b'] = ub\n",
    "model_inputs['m'] = m\n",
    "model_inputs['h_init'] = h_init\n",
    "model_inputs['S_init'] = S_init\n",
    "model_inputs['phi_init'] = phi_init\n",
    "model_inputs['d_bcs'] = [bc]\n",
    "model_inputs['width'] = width\n",
    "model_inputs['out_dir'] = \"outputs/\"\n",
    "model_inputs['constants'] = pcs"
   ]
  },
  {
   "cell_type": "code",
   "execution_count": 8,
   "metadata": {},
   "outputs": [],
   "source": [
    "# Create the Glads model\n",
    "thwaites = Glads1DModel(model_inputs)\n",
    "# End time\n",
    "T = 5.0*pcs['spy']\n",
    "# Time step\n",
    "dt = 60.0*5"
   ]
  },
  {
   "cell_type": "code",
   "execution_count": 9,
   "metadata": {
    "scrolled": false
   },
   "outputs": [
    {
     "ename": "ConvergenceError",
     "evalue": "Nonlinear solve failed to converge after 50 nonlinear iterations.\nReason:\n   DIVERGED_MAX_IT",
     "output_type": "error",
     "traceback": [
      "\u001b[0;31m---------------------------------------------------------------------------\u001b[0m",
      "\u001b[0;31mConvergenceError\u001b[0m                          Traceback (most recent call last)",
      "\u001b[0;32m~/1Dhydrology/phi_solver.py\u001b[0m in \u001b[0;36mstep\u001b[0;34m(self, dt)\u001b[0m\n\u001b[1;32m    172\u001b[0m                     \u001b[0;34m\"snes_converged_reason\"\u001b[0m\u001b[0;34m:\u001b[0m \u001b[0;32mNone\u001b[0m\u001b[0;34m,\u001b[0m\u001b[0;34m\u001b[0m\u001b[0;34m\u001b[0m\u001b[0m\n\u001b[0;32m--> 173\u001b[0;31m                     \u001b[0;34m\"ksp_converged_reason\"\u001b[0m\u001b[0;34m:\u001b[0m \u001b[0;32mNone\u001b[0m\u001b[0;34m,\u001b[0m\u001b[0;34m\u001b[0m\u001b[0;34m\u001b[0m\u001b[0m\n\u001b[0m\u001b[1;32m    174\u001b[0m                 },\n",
      "\u001b[0;32m/Applications/firedrake/firedrake/src/firedrake/firedrake/solving.py\u001b[0m in \u001b[0;36msolve\u001b[0;34m(*args, **kwargs)\u001b[0m\n\u001b[1;32m    123\u001b[0m     \u001b[0;32mif\u001b[0m \u001b[0misinstance\u001b[0m\u001b[0;34m(\u001b[0m\u001b[0margs\u001b[0m\u001b[0;34m[\u001b[0m\u001b[0;36m0\u001b[0m\u001b[0;34m]\u001b[0m\u001b[0;34m,\u001b[0m \u001b[0mufl\u001b[0m\u001b[0;34m.\u001b[0m\u001b[0mclasses\u001b[0m\u001b[0;34m.\u001b[0m\u001b[0mEquation\u001b[0m\u001b[0;34m)\u001b[0m\u001b[0;34m:\u001b[0m\u001b[0;34m\u001b[0m\u001b[0;34m\u001b[0m\u001b[0m\n\u001b[0;32m--> 124\u001b[0;31m         \u001b[0m_solve_varproblem\u001b[0m\u001b[0;34m(\u001b[0m\u001b[0;34m*\u001b[0m\u001b[0margs\u001b[0m\u001b[0;34m,\u001b[0m \u001b[0;34m**\u001b[0m\u001b[0mkwargs\u001b[0m\u001b[0;34m)\u001b[0m\u001b[0;34m\u001b[0m\u001b[0;34m\u001b[0m\u001b[0m\n\u001b[0m\u001b[1;32m    125\u001b[0m     \u001b[0;32melse\u001b[0m\u001b[0;34m:\u001b[0m\u001b[0;34m\u001b[0m\u001b[0;34m\u001b[0m\u001b[0m\n",
      "\u001b[0;32m/Applications/firedrake/firedrake/src/firedrake/firedrake/solving.py\u001b[0m in \u001b[0;36m_solve_varproblem\u001b[0;34m(*args, **kwargs)\u001b[0m\n\u001b[1;32m    171\u001b[0m                                                appctx=appctx)\n\u001b[0;32m--> 172\u001b[0;31m         \u001b[0msolver\u001b[0m\u001b[0;34m.\u001b[0m\u001b[0msolve\u001b[0m\u001b[0;34m(\u001b[0m\u001b[0;34m)\u001b[0m\u001b[0;34m\u001b[0m\u001b[0;34m\u001b[0m\u001b[0m\n\u001b[0m\u001b[1;32m    173\u001b[0m \u001b[0;34m\u001b[0m\u001b[0m\n",
      "\u001b[0;32m/Applications/firedrake/firedrake/src/firedrake/firedrake/variational_solver.py\u001b[0m in \u001b[0;36msolve\u001b[0;34m(self, bounds)\u001b[0m\n\u001b[1;32m    246\u001b[0m         \u001b[0mself\u001b[0m\u001b[0;34m.\u001b[0m\u001b[0m_setup\u001b[0m \u001b[0;34m=\u001b[0m \u001b[0;32mTrue\u001b[0m\u001b[0;34m\u001b[0m\u001b[0;34m\u001b[0m\u001b[0m\n\u001b[0;32m--> 247\u001b[0;31m         \u001b[0msolving_utils\u001b[0m\u001b[0;34m.\u001b[0m\u001b[0mcheck_snes_convergence\u001b[0m\u001b[0;34m(\u001b[0m\u001b[0mself\u001b[0m\u001b[0;34m.\u001b[0m\u001b[0msnes\u001b[0m\u001b[0;34m)\u001b[0m\u001b[0;34m\u001b[0m\u001b[0;34m\u001b[0m\u001b[0m\n\u001b[0m\u001b[1;32m    248\u001b[0m \u001b[0;34m\u001b[0m\u001b[0m\n",
      "\u001b[0;32m/Applications/firedrake/firedrake/src/firedrake/firedrake/solving_utils.py\u001b[0m in \u001b[0;36mcheck_snes_convergence\u001b[0;34m(snes)\u001b[0m\n\u001b[1;32m     42\u001b[0m \u001b[0mReason\u001b[0m\u001b[0;34m:\u001b[0m\u001b[0;34m\u001b[0m\u001b[0;34m\u001b[0m\u001b[0m\n\u001b[0;32m---> 43\u001b[0;31m    %s\"\"\" % (snes.getIterationNumber(), msg))\n\u001b[0m\u001b[1;32m     44\u001b[0m \u001b[0;34m\u001b[0m\u001b[0m\n",
      "\u001b[0;31mConvergenceError\u001b[0m: Nonlinear solve failed to converge after 50 nonlinear iterations.\nReason:\n   DIVERGED_MAX_IT",
      "\nDuring handling of the above exception, another exception occurred:\n",
      "\u001b[0;31mConvergenceError\u001b[0m                          Traceback (most recent call last)",
      "\u001b[0;32m<ipython-input-9-116371cc599c>\u001b[0m in \u001b[0;36m<module>\u001b[0;34m\u001b[0m\n\u001b[1;32m      2\u001b[0m \u001b[0;34m\u001b[0m\u001b[0m\n\u001b[1;32m      3\u001b[0m \u001b[0;32mwhile\u001b[0m \u001b[0mthwaites\u001b[0m\u001b[0;34m.\u001b[0m\u001b[0mt\u001b[0m \u001b[0;34m<\u001b[0m \u001b[0mT\u001b[0m\u001b[0;34m:\u001b[0m\u001b[0;34m\u001b[0m\u001b[0;34m\u001b[0m\u001b[0m\n\u001b[0;32m----> 4\u001b[0;31m     \u001b[0mthwaites\u001b[0m\u001b[0;34m.\u001b[0m\u001b[0mstep\u001b[0m\u001b[0;34m(\u001b[0m\u001b[0mdt\u001b[0m\u001b[0;34m)\u001b[0m\u001b[0;34m\u001b[0m\u001b[0;34m\u001b[0m\u001b[0m\n\u001b[0m\u001b[1;32m      5\u001b[0m     \u001b[0;32mif\u001b[0m \u001b[0;34m(\u001b[0m\u001b[0mint\u001b[0m\u001b[0;34m(\u001b[0m\u001b[0mthwaites\u001b[0m\u001b[0;34m.\u001b[0m\u001b[0mt\u001b[0m\u001b[0;34m)\u001b[0m \u001b[0;34m%\u001b[0m \u001b[0mint\u001b[0m\u001b[0;34m(\u001b[0m\u001b[0;36m30\u001b[0m\u001b[0;34m*\u001b[0m\u001b[0mpcs\u001b[0m\u001b[0;34m[\u001b[0m\u001b[0;34m'spd'\u001b[0m\u001b[0;34m]\u001b[0m\u001b[0;34m)\u001b[0m \u001b[0;34m==\u001b[0m\u001b[0;36m0\u001b[0m\u001b[0;34m)\u001b[0m\u001b[0;34m:\u001b[0m\u001b[0;34m\u001b[0m\u001b[0;34m\u001b[0m\u001b[0m\n\u001b[1;32m      6\u001b[0m         \u001b[0mprint\u001b[0m\u001b[0;34m(\u001b[0m\u001b[0mthwaites\u001b[0m\u001b[0;34m.\u001b[0m\u001b[0mt\u001b[0m\u001b[0;34m)\u001b[0m\u001b[0;34m\u001b[0m\u001b[0;34m\u001b[0m\u001b[0m\n",
      "\u001b[0;32m~/1Dhydrology/model.py\u001b[0m in \u001b[0;36mstep\u001b[0;34m(self, dt)\u001b[0m\n\u001b[1;32m    110\u001b[0m     \u001b[0;32mdef\u001b[0m \u001b[0mstep\u001b[0m\u001b[0;34m(\u001b[0m\u001b[0mself\u001b[0m\u001b[0;34m,\u001b[0m \u001b[0mdt\u001b[0m\u001b[0;34m)\u001b[0m\u001b[0;34m:\u001b[0m\u001b[0;34m\u001b[0m\u001b[0;34m\u001b[0m\u001b[0m\n\u001b[1;32m    111\u001b[0m         \u001b[0;31m# Step the potential forward by dt with h fixed\u001b[0m\u001b[0;34m\u001b[0m\u001b[0;34m\u001b[0m\u001b[0;34m\u001b[0m\u001b[0m\n\u001b[0;32m--> 112\u001b[0;31m         \u001b[0mself\u001b[0m\u001b[0;34m.\u001b[0m\u001b[0mphi_solver\u001b[0m\u001b[0;34m.\u001b[0m\u001b[0mstep\u001b[0m\u001b[0;34m(\u001b[0m\u001b[0mdt\u001b[0m\u001b[0;34m)\u001b[0m\u001b[0;34m\u001b[0m\u001b[0;34m\u001b[0m\u001b[0m\n\u001b[0m\u001b[1;32m    113\u001b[0m         \u001b[0;31m# Step h forward by dt with phi fixed\u001b[0m\u001b[0;34m\u001b[0m\u001b[0;34m\u001b[0m\u001b[0;34m\u001b[0m\u001b[0m\n\u001b[1;32m    114\u001b[0m         \u001b[0mself\u001b[0m\u001b[0;34m.\u001b[0m\u001b[0mhs_solver\u001b[0m\u001b[0;34m.\u001b[0m\u001b[0mstep\u001b[0m\u001b[0;34m(\u001b[0m\u001b[0mdt\u001b[0m\u001b[0;34m)\u001b[0m\u001b[0;34m\u001b[0m\u001b[0;34m\u001b[0m\u001b[0m\n",
      "\u001b[0;32m~/1Dhydrology/phi_solver.py\u001b[0m in \u001b[0;36mstep\u001b[0;34m(self, dt)\u001b[0m\n\u001b[1;32m    191\u001b[0m                     \u001b[0;34m\"pc_type\"\u001b[0m\u001b[0;34m:\u001b[0m \u001b[0;34m\"lu\"\u001b[0m\u001b[0;34m,\u001b[0m\u001b[0;34m\u001b[0m\u001b[0;34m\u001b[0m\u001b[0m\n\u001b[1;32m    192\u001b[0m                     \u001b[0;34m\"snes_max_it\"\u001b[0m\u001b[0;34m:\u001b[0m \u001b[0;36m50\u001b[0m\u001b[0;34m,\u001b[0m\u001b[0;34m\u001b[0m\u001b[0;34m\u001b[0m\u001b[0m\n\u001b[0;32m--> 193\u001b[0;31m                     \u001b[0;34m\"mat_type\"\u001b[0m\u001b[0;34m:\u001b[0m \u001b[0;34m\"aij\"\u001b[0m\u001b[0;34m,\u001b[0m\u001b[0;34m\u001b[0m\u001b[0;34m\u001b[0m\u001b[0m\n\u001b[0m\u001b[1;32m    194\u001b[0m                 },\n\u001b[1;32m    195\u001b[0m             )  # , solver_parameters = self.model.newton_params)\n",
      "\u001b[0;32m/Applications/firedrake/firedrake/src/firedrake/firedrake/solving.py\u001b[0m in \u001b[0;36msolve\u001b[0;34m(*args, **kwargs)\u001b[0m\n\u001b[1;32m    122\u001b[0m     \u001b[0;31m# Call variational problem solver if we get an equation\u001b[0m\u001b[0;34m\u001b[0m\u001b[0;34m\u001b[0m\u001b[0;34m\u001b[0m\u001b[0m\n\u001b[1;32m    123\u001b[0m     \u001b[0;32mif\u001b[0m \u001b[0misinstance\u001b[0m\u001b[0;34m(\u001b[0m\u001b[0margs\u001b[0m\u001b[0;34m[\u001b[0m\u001b[0;36m0\u001b[0m\u001b[0;34m]\u001b[0m\u001b[0;34m,\u001b[0m \u001b[0mufl\u001b[0m\u001b[0;34m.\u001b[0m\u001b[0mclasses\u001b[0m\u001b[0;34m.\u001b[0m\u001b[0mEquation\u001b[0m\u001b[0;34m)\u001b[0m\u001b[0;34m:\u001b[0m\u001b[0;34m\u001b[0m\u001b[0;34m\u001b[0m\u001b[0m\n\u001b[0;32m--> 124\u001b[0;31m         \u001b[0m_solve_varproblem\u001b[0m\u001b[0;34m(\u001b[0m\u001b[0;34m*\u001b[0m\u001b[0margs\u001b[0m\u001b[0;34m,\u001b[0m \u001b[0;34m**\u001b[0m\u001b[0mkwargs\u001b[0m\u001b[0;34m)\u001b[0m\u001b[0;34m\u001b[0m\u001b[0;34m\u001b[0m\u001b[0m\n\u001b[0m\u001b[1;32m    125\u001b[0m     \u001b[0;32melse\u001b[0m\u001b[0;34m:\u001b[0m\u001b[0;34m\u001b[0m\u001b[0;34m\u001b[0m\u001b[0m\n\u001b[1;32m    126\u001b[0m         \u001b[0;31m# Solve pre-assembled system\u001b[0m\u001b[0;34m\u001b[0m\u001b[0;34m\u001b[0m\u001b[0;34m\u001b[0m\u001b[0m\n",
      "\u001b[0;32m/Applications/firedrake/firedrake/src/firedrake/firedrake/solving.py\u001b[0m in \u001b[0;36m_solve_varproblem\u001b[0;34m(*args, **kwargs)\u001b[0m\n\u001b[1;32m    170\u001b[0m                                                \u001b[0moptions_prefix\u001b[0m\u001b[0;34m=\u001b[0m\u001b[0moptions_prefix\u001b[0m\u001b[0;34m,\u001b[0m\u001b[0;34m\u001b[0m\u001b[0;34m\u001b[0m\u001b[0m\n\u001b[1;32m    171\u001b[0m                                                appctx=appctx)\n\u001b[0;32m--> 172\u001b[0;31m         \u001b[0msolver\u001b[0m\u001b[0;34m.\u001b[0m\u001b[0msolve\u001b[0m\u001b[0;34m(\u001b[0m\u001b[0;34m)\u001b[0m\u001b[0;34m\u001b[0m\u001b[0;34m\u001b[0m\u001b[0m\n\u001b[0m\u001b[1;32m    173\u001b[0m \u001b[0;34m\u001b[0m\u001b[0m\n\u001b[1;32m    174\u001b[0m \u001b[0;34m\u001b[0m\u001b[0m\n",
      "\u001b[0;32m/Applications/firedrake/firedrake/src/firedrake/firedrake/variational_solver.py\u001b[0m in \u001b[0;36msolve\u001b[0;34m(self, bounds)\u001b[0m\n\u001b[1;32m    245\u001b[0m             \u001b[0mwork\u001b[0m\u001b[0;34m.\u001b[0m\u001b[0mcopy\u001b[0m\u001b[0;34m(\u001b[0m\u001b[0mu\u001b[0m\u001b[0;34m)\u001b[0m\u001b[0;34m\u001b[0m\u001b[0;34m\u001b[0m\u001b[0m\n\u001b[1;32m    246\u001b[0m         \u001b[0mself\u001b[0m\u001b[0;34m.\u001b[0m\u001b[0m_setup\u001b[0m \u001b[0;34m=\u001b[0m \u001b[0;32mTrue\u001b[0m\u001b[0;34m\u001b[0m\u001b[0;34m\u001b[0m\u001b[0m\n\u001b[0;32m--> 247\u001b[0;31m         \u001b[0msolving_utils\u001b[0m\u001b[0;34m.\u001b[0m\u001b[0mcheck_snes_convergence\u001b[0m\u001b[0;34m(\u001b[0m\u001b[0mself\u001b[0m\u001b[0;34m.\u001b[0m\u001b[0msnes\u001b[0m\u001b[0;34m)\u001b[0m\u001b[0;34m\u001b[0m\u001b[0;34m\u001b[0m\u001b[0m\n\u001b[0m\u001b[1;32m    248\u001b[0m \u001b[0;34m\u001b[0m\u001b[0m\n\u001b[1;32m    249\u001b[0m \u001b[0;34m\u001b[0m\u001b[0m\n",
      "\u001b[0;32m/Applications/firedrake/firedrake/src/firedrake/firedrake/solving_utils.py\u001b[0m in \u001b[0;36mcheck_snes_convergence\u001b[0;34m(snes)\u001b[0m\n\u001b[1;32m     41\u001b[0m         raise ConvergenceError(r\"\"\"Nonlinear solve failed to converge after %d nonlinear iterations.\n\u001b[1;32m     42\u001b[0m \u001b[0mReason\u001b[0m\u001b[0;34m:\u001b[0m\u001b[0;34m\u001b[0m\u001b[0;34m\u001b[0m\u001b[0m\n\u001b[0;32m---> 43\u001b[0;31m    %s\"\"\" % (snes.getIterationNumber(), msg))\n\u001b[0m\u001b[1;32m     44\u001b[0m \u001b[0;34m\u001b[0m\u001b[0m\n\u001b[1;32m     45\u001b[0m \u001b[0;34m\u001b[0m\u001b[0m\n",
      "\u001b[0;31mConvergenceError\u001b[0m: Nonlinear solve failed to converge after 50 nonlinear iterations.\nReason:\n   DIVERGED_MAX_IT"
     ]
    }
   ],
   "source": [
    "############# Run simulation ################\n",
    "\n",
    "while thwaites.t < T:\n",
    "    thwaites.step(dt)\n",
    "    if (int(thwaites.t) % int(30*pcs['spd']) ==0):\n",
    "        print(thwaites.t)"
   ]
  },
  {
   "cell_type": "code",
   "execution_count": null,
   "metadata": {},
   "outputs": [],
   "source": [
    "plot(thwaites.S)\n",
    "plot(thwaites.h)"
   ]
  },
  {
   "cell_type": "code",
   "execution_count": null,
   "metadata": {},
   "outputs": [],
   "source": [
    "plot(thwaites.phi)"
   ]
  },
  {
   "cell_type": "code",
   "execution_count": null,
   "metadata": {},
   "outputs": [],
   "source": [
    "plot(assemble(thwaites.N*-1))"
   ]
  },
  {
   "cell_type": "code",
   "execution_count": null,
   "metadata": {},
   "outputs": [],
   "source": [
    "plot(thwaites.h)"
   ]
  },
  {
   "cell_type": "code",
   "execution_count": null,
   "metadata": {},
   "outputs": [],
   "source": []
  }
 ],
 "metadata": {
  "kernelspec": {
   "display_name": "Python 3",
   "language": "python",
   "name": "python3"
  },
  "language_info": {
   "codemirror_mode": {
    "name": "ipython",
    "version": 3
   },
   "file_extension": ".py",
   "mimetype": "text/x-python",
   "name": "python",
   "nbconvert_exporter": "python",
   "pygments_lexer": "ipython3",
   "version": "3.7.3"
  }
 },
 "nbformat": 4,
 "nbformat_minor": 2
}
